{
 "cells": [
  {
   "cell_type": "markdown",
   "metadata": {},
   "source": [
    "# Region_daily_data_upload"
   ]
  },
  {
   "cell_type": "code",
   "execution_count": 1,
   "metadata": {},
   "outputs": [],
   "source": [
    "from region_sicilia import get_data_sicilia\n",
    "from region_toscana import get_data_toscana\n",
    "from region_emilia_romagna import get_data_emilia_romagna\n",
    "from region_calabria import get_data_calabria\n",
    "# from region_liguria import get_data_liguria\n",
    "# from file_updation import Update_Excel\n",
    "from file_update_new import Update_Excel\n",
    "from daily_death_check import daily_death\n",
    "import pandas as pd"
   ]
  },
  {
   "cell_type": "code",
   "execution_count": 19,
   "metadata": {
    "pycharm": {
     "is_executing": true
    }
   },
   "outputs": [],
   "source": [
    "# set day_spec as 0 for today's data 1 for yesterday's and so on\n",
    "day_spec = 0"
   ]
  },
  {
   "cell_type": "markdown",
   "metadata": {},
   "source": [
    "# Region Death Info"
   ]
  },
  {
   "cell_type": "code",
   "execution_count": 20,
   "metadata": {},
   "outputs": [
    {
     "name": "stdout",
     "output_type": "stream",
     "text": [
      "           Region  Death\n",
      "0         Abruzzo      0\n",
      "1      Basilicata      0\n",
      "2        Calabria      0\n",
      "3  Emilia-Romagna      1\n",
      "4         Liguria      0\n",
      "5          Molise      0\n",
      "6         Sicilia      0\n",
      "7         Toscana      0\n",
      "8          Umbria      0 2020-07-26\n"
     ]
    }
   ],
   "source": [
    "df,date = daily_death(day_spec)\n",
    "print(df,date)"
   ]
  },
  {
   "cell_type": "markdown",
   "metadata": {},
   "source": [
    "# Procced with Provice Scrapping"
   ]
  },
  {
   "cell_type": "code",
   "execution_count": 21,
   "metadata": {},
   "outputs": [],
   "source": [
    "region_list = {\"Abruzzo\":0, \"Basilicata\":0, \"Calabria\":0, \"Emilia-Romagna\":0,\n",
    "                 \"Liguria\":0, \"Molise\":0, \"Sicilia\":0, \"Toscana\":0, \"Umbria\":0}"
   ]
  },
  {
   "cell_type": "markdown",
   "metadata": {},
   "source": [
    "# Abruzzo"
   ]
  },
  {
   "cell_type": "code",
   "execution_count": 22,
   "metadata": {},
   "outputs": [],
   "source": [
    "# Automated web scrapping not implemented - Update the death numbers manually\n",
    "\n",
    "prov = {'provincia':[\"Chieti\",\"L'Aquila\",\"Pescara\",\"Teramo\"],\n",
    "          'decessi':[0,0,0,0]}\n",
    "\n",
    "abruzzo_prov = [\"Chieti\",\"L'Aquila\",\"Pescara\",\"Teramo\"]\n",
    "abruzzo_data = pd.DataFrame(prov, columns =['provincia', 'decessi'])\n",
    "abruzzo_data = abruzzo_data.sort_values(by=[\"provincia\"])\n",
    "\n",
    "region_list[\"Abruzzo\"] = abruzzo_data"
   ]
  },
  {
   "cell_type": "markdown",
   "metadata": {},
   "source": [
    "# Basilicata"
   ]
  },
  {
   "cell_type": "code",
   "execution_count": 23,
   "metadata": {},
   "outputs": [],
   "source": [
    "# Automated web scrapping not implemented - Update the death numbers manually\n",
    "\n",
    "prov = {'provincia':[\"Matera\",\"Potenza\"],\n",
    "          'decessi':[0,0]}\n",
    "\n",
    "basilicata_prov = [\"Matera\",\"Potenza\"]\n",
    "basilicata_data = pd.DataFrame(prov, columns =['provincia', 'decessi'])\n",
    "basilicata_data = basilicata_data.sort_values(by=[\"provincia\"])\n",
    "\n",
    "region_list[\"Basilicata\"] = basilicata_data"
   ]
  },
  {
   "cell_type": "markdown",
   "metadata": {},
   "source": [
    "# Calabria "
   ]
  },
  {
   "cell_type": "code",
   "execution_count": 24,
   "metadata": {},
   "outputs": [
    {
     "name": "stdout",
     "output_type": "stream",
     "text": [
      "         provincia  decessi_tot\n",
      "0        Catanzaro           33\n",
      "1          Cosenza           34\n",
      "2          Crotone            6\n",
      "3  Reggio Calabria           19\n",
      "4    Vibo Valentia            5\n"
     ]
    }
   ],
   "source": [
    "# calabria_data,calabria_link = get_data_calabria(day_spec)\n",
    "# region_list[\"Calabria\"] = calabria_data\n",
    "# print(calabria_data)\n",
    "# print(calabria_link)\n",
    "\n",
    "# temp\n",
    "prov = [['Catanzaro', 33], ['Cosenza', 34], ['Crotone', 6], ['Reggio Calabria', 19], ['Vibo Valentia',5]] \n",
    "\n",
    "calabria_data = pd.DataFrame(prov, columns =['provincia', 'decessi_tot'])\n",
    "calabria_data = calabria_data.sort_values(by=[\"provincia\"])\n",
    "\n",
    "region_list[\"Calabria\"] = calabria_data\n",
    "print(calabria_data)"
   ]
  },
  {
   "cell_type": "markdown",
   "metadata": {},
   "source": [
    "# Emilia-Romagna"
   ]
  },
  {
   "cell_type": "code",
   "execution_count": 25,
   "metadata": {},
   "outputs": [
    {
     "name": "stdout",
     "output_type": "stream",
     "text": [
      "            provincia  decessi\n",
      "2             Bologna        0\n",
      "3             Ferrara        0\n",
      "4        Forlì-Cesena        1\n",
      "5              Modena        0\n",
      "1               Parma        0\n",
      "0            Piacenza        0\n",
      "6             Ravenna        0\n",
      "7  Reggio nell'Emilia        0\n",
      "8              Rimini        0\n"
     ]
    }
   ],
   "source": [
    "# er_data,er_link = get_data_emilia_romagna(day_spec)\n",
    "# region_list[\"Emilia-Romagna\"] = er_data\n",
    "# print(er_data)\n",
    "# print(er_link)\n",
    "\n",
    "# temp\n",
    "prov = [['Piacenza', 0], ['Parma', 0], ['Bologna', 0], ['Ferrara', 0], ['Forlì-Cesena',1], \n",
    "        ['Modena', 0], ['Ravenna', 0], [\"Reggio nell'Emilia\", 0], ['Rimini', 0]]\n",
    "\n",
    "er_data = pd.DataFrame(prov, columns =['provincia', 'decessi'])\n",
    "er_data = er_data.sort_values(by=[\"provincia\"])\n",
    "\n",
    "region_list[\"Emilia-Romagna\"] = er_data\n",
    "print(er_data)"
   ]
  },
  {
   "cell_type": "markdown",
   "metadata": {},
   "source": [
    "# Liguria - TEST"
   ]
  },
  {
   "cell_type": "code",
   "execution_count": 26,
   "metadata": {},
   "outputs": [],
   "source": [
    "# liguria_data = get_data_liguria(day_spec)\n",
    "# region_list[\"Liguria\"] = liguria_data\n",
    "# print(liguria_data)\n",
    "\n",
    "# Automated web scrapping not implemented - Update the death numbers manually\n",
    "\n",
    "prov = [['Imperia', 0], ['Savona', 0]]\n",
    "\n",
    "liguria_data = pd.DataFrame(prov, columns =['provincia', 'decessi'])\n",
    "liguria_data = liguria_data.sort_values(by=[\"provincia\"])\n",
    "\n",
    "region_list[\"Liguria\"] = liguria_data"
   ]
  },
  {
   "cell_type": "markdown",
   "metadata": {},
   "source": [
    "# Molise"
   ]
  },
  {
   "cell_type": "code",
   "execution_count": 27,
   "metadata": {},
   "outputs": [],
   "source": [
    "# Automated web scrapping not implemented - Update the death numbers manually\n",
    "\n",
    "prov = {'provincia':[\"Campobasso\",\"Isernia\"],\n",
    "          'decessi':[0,0]}\n",
    "\n",
    "molise_prov = [\"Campobasso\",\"Isernia\"]\n",
    "molise_data = pd.DataFrame(prov, columns =['provincia', 'decessi'])\n",
    "molise_data = molise_data.sort_values(by=[\"provincia\"])\n",
    "\n",
    "region_list[\"Molise\"] = molise_data"
   ]
  },
  {
   "cell_type": "markdown",
   "metadata": {},
   "source": [
    "# Sicilia"
   ]
  },
  {
   "cell_type": "code",
   "execution_count": 28,
   "metadata": {},
   "outputs": [
    {
     "name": "stdout",
     "output_type": "stream",
     "text": [
      "       provincia  decessi_tot\n",
      "0      Agrigento            1\n",
      "1  Caltanissetta           11\n",
      "2        Catania          101\n",
      "3           Enna           29\n",
      "4        Messina           59\n",
      "5        Palermo           39\n",
      "6         Ragusa            7\n",
      "7       Siracusa           29\n",
      "8        Trapani            5\n"
     ]
    }
   ],
   "source": [
    "# sicilia_data,sicilia_link = get_data_sicilia(day_spec)\n",
    "# region_list[\"Sicilia\"] = sicilia_data\n",
    "# print(sicilia_data)\n",
    "# print(sicilia_link)\n",
    "\n",
    "# ADD 2 death \n",
    "\n",
    "# # temp\n",
    "prov = [['Agrigento', 1], ['Caltanissetta', 11], ['Catania', 101], ['Enna', 29], ['Messina', 59], ['Palermo', 39],\n",
    " ['Ragusa', 7], ['Siracusa', 29], ['Trapani', 5]]\n",
    "\n",
    "sicilia_prov = [\"Agrigento\", \"Caltanissetta\", \"Catania\", \"Enna\", \"Messina\", \"Palermo\", \"Ragusa\", \"Siracusa\", \"Trapani\"]\n",
    "sicilia_data = pd.DataFrame(prov, columns =['provincia', 'decessi_tot'])\n",
    "sicilia_data = sicilia_data.sort_values(by=[\"provincia\"])\n",
    "\n",
    "region_list[\"Sicilia\"] = sicilia_data\n",
    "print(sicilia_data)"
   ]
  },
  {
   "cell_type": "markdown",
   "metadata": {},
   "source": [
    "# Toscana - NOT WORKING"
   ]
  },
  {
   "cell_type": "code",
   "execution_count": 29,
   "metadata": {},
   "outputs": [
    {
     "name": "stdout",
     "output_type": "stream",
     "text": [
      "       provincia  decessi\n",
      "2         Arezzo        0\n",
      "0        Firenze        0\n",
      "3       Grosseto        0\n",
      "4        Livorno        0\n",
      "5          Lucca        0\n",
      "6  Massa Carrara        0\n",
      "7           Pisa        0\n",
      "8        Pistoia        0\n",
      "9          Prato        0\n",
      "1          Siena        0\n"
     ]
    }
   ],
   "source": [
    "# toscana_data,toscana_link = get_data_toscana(day_spec)\n",
    "# region_list[\"Toscana\"] = toscana_data\n",
    "# print(toscana_data)\n",
    "# print(toscana_link)\n",
    "\n",
    "prov = [['Firenze', 0], ['Siena', 0], ['Arezzo', 0], ['Grosseto', 0], ['Livorno', 0], ['Lucca', 0], \n",
    "        ['Massa Carrara', 0], ['Pisa', 0], ['Pistoia', 0], ['Prato', 0]]\n",
    "toscana_data = pd.DataFrame(prov, columns =['provincia', 'decessi'])\n",
    "toscana_data = toscana_data.sort_values(by=[\"provincia\"])\n",
    "print(toscana_data)\n",
    "region_list[\"Toscana\"] = toscana_data"
   ]
  },
  {
   "cell_type": "markdown",
   "metadata": {},
   "source": [
    "# Umbria"
   ]
  },
  {
   "cell_type": "code",
   "execution_count": 30,
   "metadata": {},
   "outputs": [],
   "source": [
    "# Automated web scrapping not implemented - Update the death numbers manually\n",
    "\n",
    "prov = {'provincia':[\"Perugia\",\"Terni\"],\n",
    "          'decessi':[int(0),int(0)]}\n",
    "\n",
    "umbria_prov = [\"Perugia\",\"Terni\"]\n",
    "umbria_data = pd.DataFrame(prov, columns =['provincia', 'decessi'])\n",
    "umbria_data = umbria_data.sort_values(by=[\"provincia\"])\n",
    "\n",
    "region_list[\"Umbria\"] = umbria_data"
   ]
  },
  {
   "cell_type": "markdown",
   "metadata": {},
   "source": [
    "---"
   ]
  },
  {
   "cell_type": "code",
   "execution_count": 31,
   "metadata": {},
   "outputs": [
    {
     "data": {
      "text/plain": [
       "{'Abruzzo':   provincia  decessi\n",
       " 0    Chieti        0\n",
       " 1  L'Aquila        0\n",
       " 2   Pescara        0\n",
       " 3    Teramo        0,\n",
       " 'Basilicata':   provincia  decessi\n",
       " 0    Matera        0\n",
       " 1   Potenza        0,\n",
       " 'Calabria':          provincia  decessi_tot\n",
       " 0        Catanzaro           33\n",
       " 1          Cosenza           34\n",
       " 2          Crotone            6\n",
       " 3  Reggio Calabria           19\n",
       " 4    Vibo Valentia            5,\n",
       " 'Emilia-Romagna':             provincia  decessi\n",
       " 2             Bologna        0\n",
       " 3             Ferrara        0\n",
       " 4        Forlì-Cesena        1\n",
       " 5              Modena        0\n",
       " 1               Parma        0\n",
       " 0            Piacenza        0\n",
       " 6             Ravenna        0\n",
       " 7  Reggio nell'Emilia        0\n",
       " 8              Rimini        0,\n",
       " 'Liguria':   provincia  decessi\n",
       " 0   Imperia        0\n",
       " 1    Savona        0,\n",
       " 'Molise':     provincia  decessi\n",
       " 0  Campobasso        0\n",
       " 1     Isernia        0,\n",
       " 'Sicilia':        provincia  decessi_tot\n",
       " 0      Agrigento            1\n",
       " 1  Caltanissetta           11\n",
       " 2        Catania          101\n",
       " 3           Enna           29\n",
       " 4        Messina           59\n",
       " 5        Palermo           39\n",
       " 6         Ragusa            7\n",
       " 7       Siracusa           29\n",
       " 8        Trapani            5,\n",
       " 'Toscana':        provincia  decessi\n",
       " 2         Arezzo        0\n",
       " 0        Firenze        0\n",
       " 3       Grosseto        0\n",
       " 4        Livorno        0\n",
       " 5          Lucca        0\n",
       " 6  Massa Carrara        0\n",
       " 7           Pisa        0\n",
       " 8        Pistoia        0\n",
       " 9          Prato        0\n",
       " 1          Siena        0,\n",
       " 'Umbria':   provincia  decessi\n",
       " 0   Perugia        0\n",
       " 1     Terni        0}"
      ]
     },
     "execution_count": 31,
     "metadata": {},
     "output_type": "execute_result"
    }
   ],
   "source": [
    "region_list"
   ]
  },
  {
   "cell_type": "markdown",
   "metadata": {},
   "source": [
    "---"
   ]
  },
  {
   "cell_type": "markdown",
   "metadata": {},
   "source": [
    "---"
   ]
  },
  {
   "cell_type": "markdown",
   "metadata": {},
   "source": [
    "# Final Excel Updation"
   ]
  },
  {
   "cell_type": "code",
   "execution_count": 32,
   "metadata": {
    "scrolled": true
   },
   "outputs": [
    {
     "name": "stdout",
     "output_type": "stream",
     "text": [
      "Chieti: done\n",
      "L'Aquila: done\n",
      "Pescara: done\n",
      "Teramo: done\n",
      "Matera: done\n",
      "Potenza: done\n",
      "Catanzaro: done\n",
      "Cosenza: done\n",
      "Crotone: done\n",
      "Reggio di Calabria: done\n",
      "Vibo Valentia: done\n",
      "Bologna: done\n",
      "Ferrara: done\n",
      "Forlì-Cesena: done\n",
      "Modena: done\n",
      "Parma: done\n",
      "Piacenza: done\n",
      "Ravenna: done\n",
      "Reggio nell'Emilia: done\n",
      "Rimini: done\n",
      "Imperia: done\n",
      "Savona: done\n",
      "Campobasso: done\n",
      "Isernia: done\n",
      "Agrigento: done\n",
      "Caltanissetta: done\n",
      "Catania: done\n",
      "Enna: done\n",
      "Messina: done\n",
      "Palermo: done\n",
      "Ragusa: done\n",
      "Siracusa: done\n",
      "Trapani: done\n",
      "Arezzo: done\n",
      "Firenze: done\n",
      "Grosseto: done\n",
      "Livorno: done\n",
      "Lucca: done\n",
      "Massa Carrara: done\n",
      "Pisa: done\n",
      "Pistoia: done\n",
      "Prato: done\n",
      "Siena: done\n",
      "Perugia: done\n",
      "Terni: done\n"
     ]
    }
   ],
   "source": [
    "for region, death_data in region_list.items():\n",
    "    if type(death_data) != int:\n",
    "        execute = Update_Excel(region=region)\n",
    "        execute.update_csv(death_data,day_spec)"
   ]
  },
  {
   "cell_type": "code",
   "execution_count": null,
   "metadata": {},
   "outputs": [],
   "source": []
  }
 ],
 "metadata": {
  "kernelspec": {
   "display_name": "Python 3",
   "language": "python",
   "name": "python3"
  },
  "language_info": {
   "codemirror_mode": {
    "name": "ipython",
    "version": 3
   },
   "file_extension": ".py",
   "mimetype": "text/x-python",
   "name": "python",
   "nbconvert_exporter": "python",
   "pygments_lexer": "ipython3",
   "version": "3.8.2"
  }
 },
 "nbformat": 4,
 "nbformat_minor": 4
}